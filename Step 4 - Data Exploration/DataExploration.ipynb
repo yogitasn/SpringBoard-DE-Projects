{
 "cells": [
  {
   "cell_type": "markdown",
   "metadata": {},
   "source": [
    "### Importing Required Libraries"
   ]
  },
  {
   "cell_type": "code",
   "execution_count": 61,
   "metadata": {},
   "outputs": [],
   "source": [
    "import pandas as pd\n",
    "import datetime as dt "
   ]
  },
  {
   "cell_type": "markdown",
   "metadata": {},
   "source": [
    "### Read the 'Seattle Paid Parking Occcupany' Last 48 hrs Dataset into a Pandas Dataframe"
   ]
  },
  {
   "cell_type": "code",
   "execution_count": 62,
   "metadata": {},
   "outputs": [
    {
     "name": "stderr",
     "output_type": "stream",
     "text": [
      "C:\\Users\\yogit\\anaconda3\\lib\\site-packages\\IPython\\core\\interactiveshell.py:3071: DtypeWarning: Columns (5) have mixed types.Specify dtype option on import or set low_memory=False.\n",
      "  has_raised = await self.run_ast_nodes(code_ast.body, cell_name,\n"
     ]
    }
   ],
   "source": [
    "df=pd.read_csv(\"C:\\Step 3 - DataCollection\\PaidParkingOccupancy.csv\")"
   ]
  },
  {
   "cell_type": "markdown",
   "metadata": {},
   "source": [
    "### Getting the first 3 records of the Dataframe"
   ]
  },
  {
   "cell_type": "code",
   "execution_count": 63,
   "metadata": {
    "scrolled": true
   },
   "outputs": [
    {
     "data": {
      "text/html": [
       "<div>\n",
       "<style scoped>\n",
       "    .dataframe tbody tr th:only-of-type {\n",
       "        vertical-align: middle;\n",
       "    }\n",
       "\n",
       "    .dataframe tbody tr th {\n",
       "        vertical-align: top;\n",
       "    }\n",
       "\n",
       "    .dataframe thead th {\n",
       "        text-align: right;\n",
       "    }\n",
       "</style>\n",
       "<table border=\"1\" class=\"dataframe\">\n",
       "  <thead>\n",
       "    <tr style=\"text-align: right;\">\n",
       "      <th></th>\n",
       "      <th>OccupancyDateTime</th>\n",
       "      <th>PaidOccupancy</th>\n",
       "      <th>BlockfaceName</th>\n",
       "      <th>SideOfStreet</th>\n",
       "      <th>SourceElementKey</th>\n",
       "      <th>ParkingTimeLimitCategory</th>\n",
       "      <th>ParkingSpaceCount</th>\n",
       "      <th>PaidParkingArea</th>\n",
       "      <th>PaidParkingSubArea</th>\n",
       "      <th>PaidParkingRate</th>\n",
       "      <th>ParkingCategory</th>\n",
       "      <th>Location</th>\n",
       "    </tr>\n",
       "  </thead>\n",
       "  <tbody>\n",
       "    <tr>\n",
       "      <th>0</th>\n",
       "      <td>11/24/2020 02:33:00 PM</td>\n",
       "      <td>2</td>\n",
       "      <td>S WELLER ST BETWEEN MAYNARD AVE S AND MAYNARD ...</td>\n",
       "      <td>N</td>\n",
       "      <td>66,617</td>\n",
       "      <td>120</td>\n",
       "      <td>4</td>\n",
       "      <td>Chinatown/ID</td>\n",
       "      <td>Core</td>\n",
       "      <td>NaN</td>\n",
       "      <td>Paid Parking</td>\n",
       "      <td>POINT (-122.32469977 47.59758631)</td>\n",
       "    </tr>\n",
       "    <tr>\n",
       "      <th>1</th>\n",
       "      <td>11/24/2020 03:20:00 PM</td>\n",
       "      <td>7</td>\n",
       "      <td>WESTERN AVE BETWEEN VIRGINIA ST AND LENORA ST</td>\n",
       "      <td>NE</td>\n",
       "      <td>58,806</td>\n",
       "      <td>120</td>\n",
       "      <td>6</td>\n",
       "      <td>Belltown</td>\n",
       "      <td>South</td>\n",
       "      <td>NaN</td>\n",
       "      <td>Paid Parking</td>\n",
       "      <td>POINT (-122.34403853 47.61082404)</td>\n",
       "    </tr>\n",
       "    <tr>\n",
       "      <th>2</th>\n",
       "      <td>11/24/2020 03:17:00 PM</td>\n",
       "      <td>1</td>\n",
       "      <td>E PINE ST BETWEEN CRAWFORD PL AND SUMMIT AVE</td>\n",
       "      <td>S</td>\n",
       "      <td>37,174</td>\n",
       "      <td>120</td>\n",
       "      <td>3</td>\n",
       "      <td>Pike-Pine</td>\n",
       "      <td>NaN</td>\n",
       "      <td>NaN</td>\n",
       "      <td>Paid Parking</td>\n",
       "      <td>POINT (-122.32587891 47.61514809)</td>\n",
       "    </tr>\n",
       "  </tbody>\n",
       "</table>\n",
       "</div>"
      ],
      "text/plain": [
       "        OccupancyDateTime  PaidOccupancy  \\\n",
       "0  11/24/2020 02:33:00 PM              2   \n",
       "1  11/24/2020 03:20:00 PM              7   \n",
       "2  11/24/2020 03:17:00 PM              1   \n",
       "\n",
       "                                       BlockfaceName SideOfStreet  \\\n",
       "0  S WELLER ST BETWEEN MAYNARD AVE S AND MAYNARD ...            N   \n",
       "1      WESTERN AVE BETWEEN VIRGINIA ST AND LENORA ST           NE   \n",
       "2       E PINE ST BETWEEN CRAWFORD PL AND SUMMIT AVE            S   \n",
       "\n",
       "  SourceElementKey ParkingTimeLimitCategory  ParkingSpaceCount  \\\n",
       "0           66,617                      120                  4   \n",
       "1           58,806                      120                  6   \n",
       "2           37,174                      120                  3   \n",
       "\n",
       "  PaidParkingArea PaidParkingSubArea  PaidParkingRate ParkingCategory  \\\n",
       "0    Chinatown/ID               Core              NaN    Paid Parking   \n",
       "1        Belltown              South              NaN    Paid Parking   \n",
       "2       Pike-Pine                NaN              NaN    Paid Parking   \n",
       "\n",
       "                            Location  \n",
       "0  POINT (-122.32469977 47.59758631)  \n",
       "1  POINT (-122.34403853 47.61082404)  \n",
       "2  POINT (-122.32587891 47.61514809)  "
      ]
     },
     "execution_count": 63,
     "metadata": {},
     "output_type": "execute_result"
    }
   ],
   "source": [
    "df.head(3)"
   ]
  },
  {
   "cell_type": "markdown",
   "metadata": {},
   "source": [
    "### Data Types of the columns in the Dataframe"
   ]
  },
  {
   "cell_type": "code",
   "execution_count": 64,
   "metadata": {},
   "outputs": [
    {
     "data": {
      "text/plain": [
       "OccupancyDateTime            object\n",
       "PaidOccupancy                 int64\n",
       "BlockfaceName                object\n",
       "SideOfStreet                 object\n",
       "SourceElementKey             object\n",
       "ParkingTimeLimitCategory     object\n",
       "ParkingSpaceCount             int64\n",
       "PaidParkingArea              object\n",
       "PaidParkingSubArea           object\n",
       "PaidParkingRate             float64\n",
       "ParkingCategory              object\n",
       "Location                     object\n",
       "dtype: object"
      ]
     },
     "execution_count": 64,
     "metadata": {},
     "output_type": "execute_result"
    }
   ],
   "source": [
    "df.dtypes"
   ]
  },
  {
   "cell_type": "markdown",
   "metadata": {},
   "source": [
    "### Checking missing values"
   ]
  },
  {
   "cell_type": "code",
   "execution_count": 65,
   "metadata": {
    "scrolled": true
   },
   "outputs": [
    {
     "data": {
      "text/plain": [
       "OccupancyDateTime           False\n",
       "PaidOccupancy               False\n",
       "BlockfaceName               False\n",
       "SideOfStreet                False\n",
       "SourceElementKey            False\n",
       "ParkingTimeLimitCategory     True\n",
       "ParkingSpaceCount           False\n",
       "PaidParkingArea             False\n",
       "PaidParkingSubArea           True\n",
       "PaidParkingRate              True\n",
       "ParkingCategory             False\n",
       "Location                    False\n",
       "dtype: bool"
      ]
     },
     "execution_count": 65,
     "metadata": {},
     "output_type": "execute_result"
    }
   ],
   "source": [
    "df.isnull().any()"
   ]
  },
  {
   "cell_type": "code",
   "execution_count": 66,
   "metadata": {
    "scrolled": true
   },
   "outputs": [
    {
     "name": "stdout",
     "output_type": "stream",
     "text": [
      "'PaidParkingSubArea' have blank values as every Parking Area doesn't have a sub-area\n",
      "'PaidParkingRate' have null values and can be dropped as this information will be captured via Blockface dataset\n"
     ]
    }
   ],
   "source": [
    "print(\"'PaidParkingSubArea' have blank values as every Parking Area doesn't have a sub-area\")\n",
    "print(\"'PaidParkingRate' have null values and can be dropped as this information will be captured via Blockface dataset\")"
   ]
  },
  {
   "cell_type": "markdown",
   "metadata": {},
   "source": [
    "### There are some Blank and out of range values like 4320 in the 'ParkingTimeLimitCategory' column\n",
    "### These values match with the Blockface column data as shown in the following steps"
   ]
  },
  {
   "cell_type": "code",
   "execution_count": 67,
   "metadata": {},
   "outputs": [
    {
     "name": "stdout",
     "output_type": "stream",
     "text": [
      "Unique elements in column \"ParkingTimeLimitCategory\" \n",
      "[120.0 600.0 240.0 30.0 nan '600' '240' '120' '30' '4,320']\n"
     ]
    }
   ],
   "source": [
    "uniqueValues = df['ParkingTimeLimitCategory'].unique()\n",
    "print('Unique elements in column \"ParkingTimeLimitCategory\" ')\n",
    "print(uniqueValues)"
   ]
  },
  {
   "cell_type": "markdown",
   "metadata": {},
   "source": [
    "## Rename the column value"
   ]
  },
  {
   "cell_type": "code",
   "execution_count": 68,
   "metadata": {},
   "outputs": [],
   "source": [
    "df.rename(columns = {'SourceElementKey':'Station_ID','PaidOccupancy':'Occupied_Spots','ParkingSpaceCount':'Available_Spots'}, inplace = True) "
   ]
  },
  {
   "cell_type": "code",
   "execution_count": 69,
   "metadata": {
    "scrolled": false
   },
   "outputs": [
    {
     "data": {
      "text/plain": [
       "OccupancyDateTime            object\n",
       "Occupied_Spots                int64\n",
       "BlockfaceName                object\n",
       "SideOfStreet                 object\n",
       "Station_ID                   object\n",
       "ParkingTimeLimitCategory     object\n",
       "Available_Spots               int64\n",
       "PaidParkingArea              object\n",
       "PaidParkingSubArea           object\n",
       "PaidParkingRate             float64\n",
       "ParkingCategory              object\n",
       "Location                     object\n",
       "dtype: object"
      ]
     },
     "execution_count": 69,
     "metadata": {},
     "output_type": "execute_result"
    }
   ],
   "source": [
    "df.dtypes"
   ]
  },
  {
   "cell_type": "markdown",
   "metadata": {},
   "source": [
    "## Finally schema needs to be changed as follows"
   ]
  },
  {
   "cell_type": "markdown",
   "metadata": {},
   "source": [
    "|Column|DataType| Desciption|\n",
    "|-----|-------|-------------|\n",
    "|OccupancyDateTime|DATETIME|The date and time (minute) of the transaction as recorded|\n",
    "|Occupied_Spots|INT|Number of transactions that have paid at this date/time on this blockface|\n",
    "|BlockfaceName|STRING|Street segment, name of street with the “from street” and “to street|\n",
    "|SideOfStreet|STRING|Options are: E, S, N, W, NE, SW, SE, NW.|\n",
    "|Station_ID|INT|Unique identifier for the city street segment where the pay station is located;|\n",
    "|ParkingTimeLimitCategory|INT|In minutes. Options are 120 (2-hour parking), 240 (4-hour parking), 30, or 600 (10-hour parking)|\n",
    "|Available_Spots|INT|Number of paid spaces on the blockface at the given date and time.|\n",
    "|PaidParkingArea|STRING|The primary name of a paid parking neighborhood. Example is Commercial Core.|\n",
    "|PaidParkingSubArea|STRING|A subset of a paid parking area—not all paid parking areas have subareas.|\n",
    "|PaidParkingRate|FLOAT|Parking rate charged at date and time.|\n",
    "|ParkingCategory|STRING|An overall description of the type of parking allowed on a blockface.|\n",
    "|Location|STRING|Calculated based on the known location of a pay station along the same blockface.|"
   ]
  },
  {
   "cell_type": "markdown",
   "metadata": {},
   "source": [
    "### Data Cleaning and Adding Additional Columns in Seattle Parking Occupancy Data\n",
    "<ol>\n",
    "<li>Create the OccupancyTimeData Dimension Table using OccupancyDateTime and derive the additional columns such as 'month','day of the week','hour' using Pyspark to get the monthly,daily and hourly trends</li>\n",
    "<li>Remove the comma from the source element id</li>\n",
    "<li>Drop unwanted columns such as 'BlockfaceName','SideOfStreet','ParkingTimeLimitCategory', etc</li>\n",
    "</ol>\n",
    "\n",
    "### Final Occupancy Fact Table should look like this\n",
    "\n",
    "|Column|DataType| Desciption|\n",
    "|-----|-------|-------------|\n",
    "|Station_ID|INT|Unique identifier for the city street segment where the pay station is located|\n",
    "|Occupied_Spots|INT|Number of transactions that have paid at this date/time on this blockface|\n",
    "|Available_Spots|INT|Number of paid spaces on the blockface at the given date and time.|\n",
    "|OccupancyDateTime|DATETIME|The date and time (minute) of the transaction as recorded|"
   ]
  },
  {
   "cell_type": "markdown",
   "metadata": {},
   "source": [
    "### OccupancyDateTime Dimension Table\n",
    "\n",
    "|Column|DataType| Desciption|\n",
    "|-----|-------|-------------|\n",
    "|OccupancyDateTime|DATETIME|The date and time (minute) of the transaction as recorded|\n",
    "|month|INT|Month when the spot was occupied|\n",
    "|day_of_the_week|STRING|Day of the week when the spot was occupied. Valid values are Mon, Tue,Wed,Thurs, Fri,Sat & Sun|\n",
    "|hour|INT|Hour when the spot was occupied|"
   ]
  },
  {
   "cell_type": "markdown",
   "metadata": {},
   "source": [
    "### Blockface Data\n",
    "\n",
    "### Displays blockfaces for all segments of the street network. Identifies the elements of the block, such as peak hour restrictions, length of the block, parking categories, and restricted parking zones.  \n"
   ]
  },
  {
   "cell_type": "code",
   "execution_count": 15,
   "metadata": {},
   "outputs": [
    {
     "name": "stderr",
     "output_type": "stream",
     "text": [
      "C:\\Users\\yogit\\anaconda3\\lib\\site-packages\\IPython\\core\\interactiveshell.py:3071: DtypeWarning: Columns (34,36,37,38,39,40) have mixed types.Specify dtype option on import or set low_memory=False.\n",
      "  has_raised = await self.run_ast_nodes(code_ast.body, cell_name,\n"
     ]
    }
   ],
   "source": [
    "blockface=pd.read_csv(\"C:\\Step 3 - DataCollection\\Blockface.csv\")"
   ]
  },
  {
   "cell_type": "code",
   "execution_count": 26,
   "metadata": {
    "scrolled": false
   },
   "outputs": [
    {
     "data": {
      "text/html": [
       "<div>\n",
       "<style scoped>\n",
       "    .dataframe tbody tr th:only-of-type {\n",
       "        vertical-align: middle;\n",
       "    }\n",
       "\n",
       "    .dataframe tbody tr th {\n",
       "        vertical-align: top;\n",
       "    }\n",
       "\n",
       "    .dataframe thead th {\n",
       "        text-align: right;\n",
       "    }\n",
       "</style>\n",
       "<table border=\"1\" class=\"dataframe\">\n",
       "  <thead>\n",
       "    <tr style=\"text-align: right;\">\n",
       "      <th></th>\n",
       "      <th>ELMNTKEY</th>\n",
       "      <th>UNITDESC</th>\n",
       "      <th>SIDE</th>\n",
       "      <th>BLOCK_NBR</th>\n",
       "      <th>PARKING_CATEGORY</th>\n",
       "      <th>WKD_RATE1</th>\n",
       "      <th>WKD_START1</th>\n",
       "      <th>WKD_END1</th>\n",
       "      <th>WKD_RATE2</th>\n",
       "      <th>WKD_START2</th>\n",
       "      <th>...</th>\n",
       "      <th>SAT_START1</th>\n",
       "      <th>SAT_END1</th>\n",
       "      <th>SAT_RATE2</th>\n",
       "      <th>SAT_START2</th>\n",
       "      <th>SAT_END2</th>\n",
       "      <th>SAT_RATE3</th>\n",
       "      <th>SAT_START3</th>\n",
       "      <th>SAT_END3</th>\n",
       "      <th>PARKING_TIME_LIMIT</th>\n",
       "      <th>SUBAREA</th>\n",
       "    </tr>\n",
       "  </thead>\n",
       "  <tbody>\n",
       "    <tr>\n",
       "      <th>0</th>\n",
       "      <td>122148</td>\n",
       "      <td>DUWAMISH RIVER TRL BETWEEN WEST MARGINAL WAY S...</td>\n",
       "      <td>W</td>\n",
       "      <td>4200</td>\n",
       "      <td>None</td>\n",
       "      <td>0.0</td>\n",
       "      <td>0</td>\n",
       "      <td>0</td>\n",
       "      <td>0.0</td>\n",
       "      <td>0</td>\n",
       "      <td>...</td>\n",
       "      <td>0.0</td>\n",
       "      <td>0.0</td>\n",
       "      <td>0.0</td>\n",
       "      <td>0.0</td>\n",
       "      <td>0.0</td>\n",
       "      <td>0.0</td>\n",
       "      <td>0.0</td>\n",
       "      <td>0.0</td>\n",
       "      <td>NaN</td>\n",
       "      <td>NaN</td>\n",
       "    </tr>\n",
       "    <tr>\n",
       "      <th>1</th>\n",
       "      <td>137002</td>\n",
       "      <td>SR99 TUNNEL NB BETWEEN ALASKAN WY VI NB AND SR...</td>\n",
       "      <td>W</td>\n",
       "      <td>0</td>\n",
       "      <td>None</td>\n",
       "      <td>0.0</td>\n",
       "      <td>0</td>\n",
       "      <td>0</td>\n",
       "      <td>0.0</td>\n",
       "      <td>0</td>\n",
       "      <td>...</td>\n",
       "      <td>0.0</td>\n",
       "      <td>0.0</td>\n",
       "      <td>0.0</td>\n",
       "      <td>0.0</td>\n",
       "      <td>0.0</td>\n",
       "      <td>0.0</td>\n",
       "      <td>0.0</td>\n",
       "      <td>0.0</td>\n",
       "      <td>NaN</td>\n",
       "      <td>NaN</td>\n",
       "    </tr>\n",
       "    <tr>\n",
       "      <th>2</th>\n",
       "      <td>136762</td>\n",
       "      <td>6TH AV N SR99 ON RP BETWEEN 6TH AVE N AND SR99...</td>\n",
       "      <td>W</td>\n",
       "      <td>0</td>\n",
       "      <td>None</td>\n",
       "      <td>0.0</td>\n",
       "      <td>0</td>\n",
       "      <td>0</td>\n",
       "      <td>0.0</td>\n",
       "      <td>0</td>\n",
       "      <td>...</td>\n",
       "      <td>0.0</td>\n",
       "      <td>0.0</td>\n",
       "      <td>0.0</td>\n",
       "      <td>0.0</td>\n",
       "      <td>0.0</td>\n",
       "      <td>0.0</td>\n",
       "      <td>0.0</td>\n",
       "      <td>0.0</td>\n",
       "      <td>NaN</td>\n",
       "      <td>NaN</td>\n",
       "    </tr>\n",
       "  </tbody>\n",
       "</table>\n",
       "<p>3 rows × 25 columns</p>\n",
       "</div>"
      ],
      "text/plain": [
       "   ELMNTKEY                                           UNITDESC SIDE  \\\n",
       "0    122148  DUWAMISH RIVER TRL BETWEEN WEST MARGINAL WAY S...    W   \n",
       "1    137002  SR99 TUNNEL NB BETWEEN ALASKAN WY VI NB AND SR...    W   \n",
       "2    136762  6TH AV N SR99 ON RP BETWEEN 6TH AVE N AND SR99...    W   \n",
       "\n",
       "   BLOCK_NBR PARKING_CATEGORY  WKD_RATE1  WKD_START1  WKD_END1  WKD_RATE2  \\\n",
       "0       4200             None        0.0           0         0        0.0   \n",
       "1          0             None        0.0           0         0        0.0   \n",
       "2          0             None        0.0           0         0        0.0   \n",
       "\n",
       "   WKD_START2  ...  SAT_START1  SAT_END1  SAT_RATE2  SAT_START2  SAT_END2  \\\n",
       "0           0  ...         0.0       0.0        0.0         0.0       0.0   \n",
       "1           0  ...         0.0       0.0        0.0         0.0       0.0   \n",
       "2           0  ...         0.0       0.0        0.0         0.0       0.0   \n",
       "\n",
       "   SAT_RATE3  SAT_START3  SAT_END3  PARKING_TIME_LIMIT  SUBAREA  \n",
       "0        0.0         0.0       0.0                 NaN      NaN  \n",
       "1        0.0         0.0       0.0                 NaN      NaN  \n",
       "2        0.0         0.0       0.0                 NaN      NaN  \n",
       "\n",
       "[3 rows x 25 columns]"
      ]
     },
     "execution_count": 26,
     "metadata": {},
     "output_type": "execute_result"
    }
   ],
   "source": [
    "blockface.head(3)"
   ]
  },
  {
   "cell_type": "code",
   "execution_count": 17,
   "metadata": {},
   "outputs": [
    {
     "data": {
      "text/plain": [
       "OBJECTID                 int64\n",
       "ELMNTKEY                 int64\n",
       "SEGKEY                   int64\n",
       "UNITID                   int64\n",
       "UNITID2                  int64\n",
       "UNITDESC                object\n",
       "SIDE                    object\n",
       "BLOCK_ID                object\n",
       "BLOCK_NBR                int64\n",
       "CSM                     object\n",
       "PARKING_CATEGORY        object\n",
       "LOAD                     int64\n",
       "ZONE                     int64\n",
       "TOTAL_ZONES              int64\n",
       "WKD_RATE1              float64\n",
       "WKD_START1               int64\n",
       "WKD_END1                 int64\n",
       "WKD_RATE2              float64\n",
       "WKD_START2               int64\n",
       "WKD_END2                 int64\n",
       "WKD_RATE3              float64\n",
       "WKD_START3             float64\n",
       "WKD_END3               float64\n",
       "SAT_RATE1              float64\n",
       "SAT_START1             float64\n",
       "SAT_END1               float64\n",
       "SAT_RATE2              float64\n",
       "SAT_START2             float64\n",
       "SAT_END2               float64\n",
       "SAT_RATE3              float64\n",
       "SAT_START3             float64\n",
       "SAT_END3               float64\n",
       "RPZ_ZONE                object\n",
       "RPZ_AREA               float64\n",
       "PAIDAREA                object\n",
       "PARKING_TIME_LIMIT     float64\n",
       "SUBAREA                 object\n",
       "START_TIME_WKD          object\n",
       "END_TIME_WKD            object\n",
       "START_TIME_SAT          object\n",
       "END_TIME_SAT            object\n",
       "PRIMARYDISTRICTCD       object\n",
       "SECONDARYDISTRICTCD     object\n",
       "OVERRIDEYN              object\n",
       "OVERRIDECOMMENT        float64\n",
       "SHAPE_Length           float64\n",
       "dtype: object"
      ]
     },
     "execution_count": 17,
     "metadata": {},
     "output_type": "execute_result"
    }
   ],
   "source": [
    "blockface.dtypes"
   ]
  },
  {
   "cell_type": "markdown",
   "metadata": {},
   "source": [
    "### Drop unwanted columns"
   ]
  },
  {
   "cell_type": "code",
   "execution_count": 18,
   "metadata": {},
   "outputs": [],
   "source": [
    "blockface = blockface.drop([\"OBJECTID\",\"SEGKEY\",\n",
    "                               \"UNITID\",\n",
    "                                \"UNITID2\",\n",
    "                                \"BLOCK_ID\",\n",
    "                                \"CSM\",\n",
    "                                \"LOAD\",\n",
    "                                \"ZONE\",\n",
    "                                \"TOTAL_ZONES\",\n",
    "                                \"RPZ_ZONE\",\n",
    "                                \"RPZ_AREA\",\n",
    "                                \"PAIDAREA\",\n",
    "                                \"START_TIME_WKD\",\n",
    "                                \"END_TIME_WKD\",\n",
    "                                \"START_TIME_SAT\",\n",
    "                                \"END_TIME_SAT\",\n",
    "                                \"PRIMARYDISTRICTCD\",\n",
    "                                \"SECONDARYDISTRICTCD\",\n",
    "                                \"OVERRIDEYN\",\n",
    "                                \"OVERRIDECOMMENT\",\n",
    "                                \"SHAPE_Length\"],axis=1)"
   ]
  },
  {
   "cell_type": "code",
   "execution_count": 19,
   "metadata": {
    "scrolled": true
   },
   "outputs": [
    {
     "data": {
      "text/html": [
       "<div>\n",
       "<style scoped>\n",
       "    .dataframe tbody tr th:only-of-type {\n",
       "        vertical-align: middle;\n",
       "    }\n",
       "\n",
       "    .dataframe tbody tr th {\n",
       "        vertical-align: top;\n",
       "    }\n",
       "\n",
       "    .dataframe thead th {\n",
       "        text-align: right;\n",
       "    }\n",
       "</style>\n",
       "<table border=\"1\" class=\"dataframe\">\n",
       "  <thead>\n",
       "    <tr style=\"text-align: right;\">\n",
       "      <th></th>\n",
       "      <th>ELMNTKEY</th>\n",
       "      <th>UNITDESC</th>\n",
       "      <th>SIDE</th>\n",
       "      <th>BLOCK_NBR</th>\n",
       "      <th>PARKING_CATEGORY</th>\n",
       "      <th>WKD_RATE1</th>\n",
       "      <th>WKD_START1</th>\n",
       "      <th>WKD_END1</th>\n",
       "      <th>WKD_RATE2</th>\n",
       "      <th>WKD_START2</th>\n",
       "      <th>...</th>\n",
       "      <th>SAT_START1</th>\n",
       "      <th>SAT_END1</th>\n",
       "      <th>SAT_RATE2</th>\n",
       "      <th>SAT_START2</th>\n",
       "      <th>SAT_END2</th>\n",
       "      <th>SAT_RATE3</th>\n",
       "      <th>SAT_START3</th>\n",
       "      <th>SAT_END3</th>\n",
       "      <th>PARKING_TIME_LIMIT</th>\n",
       "      <th>SUBAREA</th>\n",
       "    </tr>\n",
       "  </thead>\n",
       "  <tbody>\n",
       "    <tr>\n",
       "      <th>0</th>\n",
       "      <td>122148</td>\n",
       "      <td>DUWAMISH RIVER TRL BETWEEN WEST MARGINAL WAY S...</td>\n",
       "      <td>W</td>\n",
       "      <td>4200</td>\n",
       "      <td>None</td>\n",
       "      <td>0.0</td>\n",
       "      <td>0</td>\n",
       "      <td>0</td>\n",
       "      <td>0.0</td>\n",
       "      <td>0</td>\n",
       "      <td>...</td>\n",
       "      <td>0.0</td>\n",
       "      <td>0.0</td>\n",
       "      <td>0.0</td>\n",
       "      <td>0.0</td>\n",
       "      <td>0.0</td>\n",
       "      <td>0.0</td>\n",
       "      <td>0.0</td>\n",
       "      <td>0.0</td>\n",
       "      <td>NaN</td>\n",
       "      <td>NaN</td>\n",
       "    </tr>\n",
       "    <tr>\n",
       "      <th>1</th>\n",
       "      <td>137002</td>\n",
       "      <td>SR99 TUNNEL NB BETWEEN ALASKAN WY VI NB AND SR...</td>\n",
       "      <td>W</td>\n",
       "      <td>0</td>\n",
       "      <td>None</td>\n",
       "      <td>0.0</td>\n",
       "      <td>0</td>\n",
       "      <td>0</td>\n",
       "      <td>0.0</td>\n",
       "      <td>0</td>\n",
       "      <td>...</td>\n",
       "      <td>0.0</td>\n",
       "      <td>0.0</td>\n",
       "      <td>0.0</td>\n",
       "      <td>0.0</td>\n",
       "      <td>0.0</td>\n",
       "      <td>0.0</td>\n",
       "      <td>0.0</td>\n",
       "      <td>0.0</td>\n",
       "      <td>NaN</td>\n",
       "      <td>NaN</td>\n",
       "    </tr>\n",
       "    <tr>\n",
       "      <th>2</th>\n",
       "      <td>136762</td>\n",
       "      <td>6TH AV N SR99 ON RP BETWEEN 6TH AVE N AND SR99...</td>\n",
       "      <td>W</td>\n",
       "      <td>0</td>\n",
       "      <td>None</td>\n",
       "      <td>0.0</td>\n",
       "      <td>0</td>\n",
       "      <td>0</td>\n",
       "      <td>0.0</td>\n",
       "      <td>0</td>\n",
       "      <td>...</td>\n",
       "      <td>0.0</td>\n",
       "      <td>0.0</td>\n",
       "      <td>0.0</td>\n",
       "      <td>0.0</td>\n",
       "      <td>0.0</td>\n",
       "      <td>0.0</td>\n",
       "      <td>0.0</td>\n",
       "      <td>0.0</td>\n",
       "      <td>NaN</td>\n",
       "      <td>NaN</td>\n",
       "    </tr>\n",
       "  </tbody>\n",
       "</table>\n",
       "<p>3 rows × 25 columns</p>\n",
       "</div>"
      ],
      "text/plain": [
       "   ELMNTKEY                                           UNITDESC SIDE  \\\n",
       "0    122148  DUWAMISH RIVER TRL BETWEEN WEST MARGINAL WAY S...    W   \n",
       "1    137002  SR99 TUNNEL NB BETWEEN ALASKAN WY VI NB AND SR...    W   \n",
       "2    136762  6TH AV N SR99 ON RP BETWEEN 6TH AVE N AND SR99...    W   \n",
       "\n",
       "   BLOCK_NBR PARKING_CATEGORY  WKD_RATE1  WKD_START1  WKD_END1  WKD_RATE2  \\\n",
       "0       4200             None        0.0           0         0        0.0   \n",
       "1          0             None        0.0           0         0        0.0   \n",
       "2          0             None        0.0           0         0        0.0   \n",
       "\n",
       "   WKD_START2  ...  SAT_START1  SAT_END1  SAT_RATE2  SAT_START2  SAT_END2  \\\n",
       "0           0  ...         0.0       0.0        0.0         0.0       0.0   \n",
       "1           0  ...         0.0       0.0        0.0         0.0       0.0   \n",
       "2           0  ...         0.0       0.0        0.0         0.0       0.0   \n",
       "\n",
       "   SAT_RATE3  SAT_START3  SAT_END3  PARKING_TIME_LIMIT  SUBAREA  \n",
       "0        0.0         0.0       0.0                 NaN      NaN  \n",
       "1        0.0         0.0       0.0                 NaN      NaN  \n",
       "2        0.0         0.0       0.0                 NaN      NaN  \n",
       "\n",
       "[3 rows x 25 columns]"
      ]
     },
     "execution_count": 19,
     "metadata": {},
     "output_type": "execute_result"
    }
   ],
   "source": [
    "blockface.head(3)"
   ]
  },
  {
   "cell_type": "code",
   "execution_count": 30,
   "metadata": {},
   "outputs": [
    {
     "data": {
      "text/plain": [
       "ELMNTKEY                int64\n",
       "UNITDESC               object\n",
       "SIDE                   object\n",
       "BLOCK_NBR               int64\n",
       "PARKING_CATEGORY       object\n",
       "WKD_RATE1             float64\n",
       "WKD_START1              int64\n",
       "WKD_END1                int64\n",
       "WKD_RATE2             float64\n",
       "WKD_START2              int64\n",
       "WKD_END2                int64\n",
       "WKD_RATE3             float64\n",
       "WKD_START3            float64\n",
       "WKD_END3              float64\n",
       "SAT_RATE1             float64\n",
       "SAT_START1            float64\n",
       "SAT_END1              float64\n",
       "SAT_RATE2             float64\n",
       "SAT_START2            float64\n",
       "SAT_END2              float64\n",
       "SAT_RATE3             float64\n",
       "SAT_START3            float64\n",
       "SAT_END3              float64\n",
       "PARKING_TIME_LIMIT    float64\n",
       "SUBAREA                object\n",
       "dtype: object"
      ]
     },
     "execution_count": 30,
     "metadata": {},
     "output_type": "execute_result"
    }
   ],
   "source": [
    "blockface.dtypes"
   ]
  },
  {
   "cell_type": "markdown",
   "metadata": {},
   "source": [
    "### There are blank values for certain columns like WKD_RATE3/WKDSTART3/WKDEND3/SAT_RATE1 as there could be no parking permitted during that time period in those areas"
   ]
  },
  {
   "cell_type": "code",
   "execution_count": 22,
   "metadata": {},
   "outputs": [
    {
     "data": {
      "text/plain": [
       "ELMNTKEY              False\n",
       "UNITDESC              False\n",
       "SIDE                  False\n",
       "BLOCK_NBR             False\n",
       "PARKING_CATEGORY      False\n",
       "WKD_RATE1             False\n",
       "WKD_START1            False\n",
       "WKD_END1              False\n",
       "WKD_RATE2             False\n",
       "WKD_START2            False\n",
       "WKD_END2              False\n",
       "WKD_RATE3              True\n",
       "WKD_START3             True\n",
       "WKD_END3               True\n",
       "SAT_RATE1              True\n",
       "SAT_START1             True\n",
       "SAT_END1               True\n",
       "SAT_RATE2              True\n",
       "SAT_START2             True\n",
       "SAT_END2               True\n",
       "SAT_RATE3              True\n",
       "SAT_START3             True\n",
       "SAT_END3               True\n",
       "PARKING_TIME_LIMIT     True\n",
       "SUBAREA                True\n",
       "dtype: bool"
      ]
     },
     "execution_count": 22,
     "metadata": {},
     "output_type": "execute_result"
    }
   ],
   "source": [
    "blockface.isnull().any()"
   ]
  },
  {
   "cell_type": "code",
   "execution_count": 76,
   "metadata": {},
   "outputs": [],
   "source": [
    "blockface.rename(columns={'ELMNTKEY':'Station_ID','UNITDESC':'UnitDesc','SIDE':'Side','BLOCK_NBR':'Block_Nbr','PARKING_CATEGORY':'Parking_Category',\n",
    "                  'WKD_RATE1':'Wkd_Rate1','WKD_START1':'Wkd_Start1','WKD_END1':'Wkd_End1','WKD_RATE2':'Wkd_Rate2',\n",
    "                   'WKD_START2':'Wkd_Start2','WKD_END2':'Wkd_End2','WKD_RATE3':'Wkd_Rate3','WKD_START3':'Wkd_Start3',\n",
    "                   'WKD_END3':'Wkd_End3','SAT_RATE1':'Sat_Rate1','SAT_START1':'Sat_Start1','SAT_END1':'Sat_End1',\n",
    "                    'SAT_RATE2':'Sat_Rate2','SAT_START2':'Sat_Start2','SAT_END2':'Sat_End2','SAT_RATE3':'Sat_Rate3',\n",
    "                     'SAT_START3':'Sat_Start3','SAT_END3':'Sat_End3','PARKING_TIME_LIMIT':'Parking_Time_Limit',\n",
    "                     'SUBAREA':'SubArea'},inplace=True)"
   ]
  },
  {
   "cell_type": "code",
   "execution_count": 27,
   "metadata": {
    "scrolled": true
   },
   "outputs": [
    {
     "data": {
      "text/html": [
       "<div>\n",
       "<style scoped>\n",
       "    .dataframe tbody tr th:only-of-type {\n",
       "        vertical-align: middle;\n",
       "    }\n",
       "\n",
       "    .dataframe tbody tr th {\n",
       "        vertical-align: top;\n",
       "    }\n",
       "\n",
       "    .dataframe thead th {\n",
       "        text-align: right;\n",
       "    }\n",
       "</style>\n",
       "<table border=\"1\" class=\"dataframe\">\n",
       "  <thead>\n",
       "    <tr style=\"text-align: right;\">\n",
       "      <th></th>\n",
       "      <th>ELMNTKEY</th>\n",
       "      <th>UNITDESC</th>\n",
       "      <th>SIDE</th>\n",
       "      <th>BLOCK_NBR</th>\n",
       "      <th>PARKING_CATEGORY</th>\n",
       "      <th>WKD_RATE1</th>\n",
       "      <th>WKD_START1</th>\n",
       "      <th>WKD_END1</th>\n",
       "      <th>WKD_RATE2</th>\n",
       "      <th>WKD_START2</th>\n",
       "      <th>...</th>\n",
       "      <th>SAT_START1</th>\n",
       "      <th>SAT_END1</th>\n",
       "      <th>SAT_RATE2</th>\n",
       "      <th>SAT_START2</th>\n",
       "      <th>SAT_END2</th>\n",
       "      <th>SAT_RATE3</th>\n",
       "      <th>SAT_START3</th>\n",
       "      <th>SAT_END3</th>\n",
       "      <th>PARKING_TIME_LIMIT</th>\n",
       "      <th>SUBAREA</th>\n",
       "    </tr>\n",
       "  </thead>\n",
       "  <tbody>\n",
       "    <tr>\n",
       "      <th>0</th>\n",
       "      <td>122148</td>\n",
       "      <td>DUWAMISH RIVER TRL BETWEEN WEST MARGINAL WAY S...</td>\n",
       "      <td>W</td>\n",
       "      <td>4200</td>\n",
       "      <td>None</td>\n",
       "      <td>0.0</td>\n",
       "      <td>0</td>\n",
       "      <td>0</td>\n",
       "      <td>0.0</td>\n",
       "      <td>0</td>\n",
       "      <td>...</td>\n",
       "      <td>0.0</td>\n",
       "      <td>0.0</td>\n",
       "      <td>0.0</td>\n",
       "      <td>0.0</td>\n",
       "      <td>0.0</td>\n",
       "      <td>0.0</td>\n",
       "      <td>0.0</td>\n",
       "      <td>0.0</td>\n",
       "      <td>NaN</td>\n",
       "      <td>NaN</td>\n",
       "    </tr>\n",
       "    <tr>\n",
       "      <th>1</th>\n",
       "      <td>137002</td>\n",
       "      <td>SR99 TUNNEL NB BETWEEN ALASKAN WY VI NB AND SR...</td>\n",
       "      <td>W</td>\n",
       "      <td>0</td>\n",
       "      <td>None</td>\n",
       "      <td>0.0</td>\n",
       "      <td>0</td>\n",
       "      <td>0</td>\n",
       "      <td>0.0</td>\n",
       "      <td>0</td>\n",
       "      <td>...</td>\n",
       "      <td>0.0</td>\n",
       "      <td>0.0</td>\n",
       "      <td>0.0</td>\n",
       "      <td>0.0</td>\n",
       "      <td>0.0</td>\n",
       "      <td>0.0</td>\n",
       "      <td>0.0</td>\n",
       "      <td>0.0</td>\n",
       "      <td>NaN</td>\n",
       "      <td>NaN</td>\n",
       "    </tr>\n",
       "    <tr>\n",
       "      <th>2</th>\n",
       "      <td>136762</td>\n",
       "      <td>6TH AV N SR99 ON RP BETWEEN 6TH AVE N AND SR99...</td>\n",
       "      <td>W</td>\n",
       "      <td>0</td>\n",
       "      <td>None</td>\n",
       "      <td>0.0</td>\n",
       "      <td>0</td>\n",
       "      <td>0</td>\n",
       "      <td>0.0</td>\n",
       "      <td>0</td>\n",
       "      <td>...</td>\n",
       "      <td>0.0</td>\n",
       "      <td>0.0</td>\n",
       "      <td>0.0</td>\n",
       "      <td>0.0</td>\n",
       "      <td>0.0</td>\n",
       "      <td>0.0</td>\n",
       "      <td>0.0</td>\n",
       "      <td>0.0</td>\n",
       "      <td>NaN</td>\n",
       "      <td>NaN</td>\n",
       "    </tr>\n",
       "  </tbody>\n",
       "</table>\n",
       "<p>3 rows × 25 columns</p>\n",
       "</div>"
      ],
      "text/plain": [
       "   ELMNTKEY                                           UNITDESC SIDE  \\\n",
       "0    122148  DUWAMISH RIVER TRL BETWEEN WEST MARGINAL WAY S...    W   \n",
       "1    137002  SR99 TUNNEL NB BETWEEN ALASKAN WY VI NB AND SR...    W   \n",
       "2    136762  6TH AV N SR99 ON RP BETWEEN 6TH AVE N AND SR99...    W   \n",
       "\n",
       "   BLOCK_NBR PARKING_CATEGORY  WKD_RATE1  WKD_START1  WKD_END1  WKD_RATE2  \\\n",
       "0       4200             None        0.0           0         0        0.0   \n",
       "1          0             None        0.0           0         0        0.0   \n",
       "2          0             None        0.0           0         0        0.0   \n",
       "\n",
       "   WKD_START2  ...  SAT_START1  SAT_END1  SAT_RATE2  SAT_START2  SAT_END2  \\\n",
       "0           0  ...         0.0       0.0        0.0         0.0       0.0   \n",
       "1           0  ...         0.0       0.0        0.0         0.0       0.0   \n",
       "2           0  ...         0.0       0.0        0.0         0.0       0.0   \n",
       "\n",
       "   SAT_RATE3  SAT_START3  SAT_END3  PARKING_TIME_LIMIT  SUBAREA  \n",
       "0        0.0         0.0       0.0                 NaN      NaN  \n",
       "1        0.0         0.0       0.0                 NaN      NaN  \n",
       "2        0.0         0.0       0.0                 NaN      NaN  \n",
       "\n",
       "[3 rows x 25 columns]"
      ]
     },
     "execution_count": 27,
     "metadata": {},
     "output_type": "execute_result"
    }
   ],
   "source": [
    "blockface.head(3)"
   ]
  },
  {
   "cell_type": "code",
   "execution_count": 28,
   "metadata": {
    "scrolled": true
   },
   "outputs": [
    {
     "data": {
      "text/plain": [
       "ELMNTKEY                int64\n",
       "UNITDESC               object\n",
       "SIDE                   object\n",
       "BLOCK_NBR               int64\n",
       "PARKING_CATEGORY       object\n",
       "WKD_RATE1             float64\n",
       "WKD_START1              int64\n",
       "WKD_END1                int64\n",
       "WKD_RATE2             float64\n",
       "WKD_START2              int64\n",
       "WKD_END2                int64\n",
       "WKD_RATE3             float64\n",
       "WKD_START3            float64\n",
       "WKD_END3              float64\n",
       "SAT_RATE1             float64\n",
       "SAT_START1            float64\n",
       "SAT_END1              float64\n",
       "SAT_RATE2             float64\n",
       "SAT_START2            float64\n",
       "SAT_END2              float64\n",
       "SAT_RATE3             float64\n",
       "SAT_START3            float64\n",
       "SAT_END3              float64\n",
       "PARKING_TIME_LIMIT    float64\n",
       "SUBAREA                object\n",
       "dtype: object"
      ]
     },
     "execution_count": 28,
     "metadata": {},
     "output_type": "execute_result"
    }
   ],
   "source": [
    "blockface.dtypes"
   ]
  },
  {
   "cell_type": "markdown",
   "metadata": {},
   "source": [
    "### Schema to be changed as follows"
   ]
  },
  {
   "cell_type": "markdown",
   "metadata": {},
   "source": [
    "\n",
    "|Column|DataType|Description|\n",
    "|-----|-------|-------------|\n",
    "|Station_id| INT| Unique identifier for the city street segment (blockface)|\n",
    "|UnitDesc|STRING| Name of the Street 'from_street' to 'to_street'|\n",
    "|Side| STRING| Options are: E, S, N, W, NE, SW, SE, NW.|\n",
    "|Block_Nbr|INT| Block Number|\n",
    "|Parking_Category| STRING| An overall description of the type of parking allowed on a blockface.|\n",
    "|Wkd_Rate1| DOUBLE| Weekday parking rate – 1st interval|\n",
    "|Wkd_Start1| HH:MM:00|Weekday 1st interval start|\n",
    "|Wkd_End1| HH:MM:00| Weekday 1st interval end |\n",
    "|Wkd_Rate2| DOUBLE| Weekday parking rate -2nd interval|\n",
    "|Wkd_Start2| HH:MM:00| Weekday 2nd interval start|\n",
    "|Wkd_End2| HH:MM:00| Weekday 2nd interval end|\n",
    "|Wkd_Rate3| DOUBLE| Weekday parking rate - 3rd interval|\n",
    "|Wkd_Start3| HH:MM:00| Weekday 3rd interval start |\n",
    "|Wkd_End3| HH:MM:00|Weekday 3rd interval end |\n",
    "|Sat_Rate1| DOUBLE|Sat parking rate -1st Interval|\n",
    "|Sat_Start1| HH:MM:00| Sat 1st interval start |\n",
    "|Sat_End1| HH:MM:00| Sat 1st interval end |\n",
    "|Sat_Rate2| DOUBLE| Sat parking rate - 2nd interval|\n",
    "|Sat_Start2|HH:MM:00 | Sat 2nd interval start|\n",
    "|Sat_End2|HH:MM:00 | Sat 2nd interval end|\n",
    "|Sat_Rate3| DOUBLE| Sat parking rate - 3rd interval|\n",
    "|Sat_Start3|HH:MM:00|Sat 3rd interval start| \n",
    "|Sat_End3|HH:MM:00| Sat 3rd interval end |\n",
    "|Parking_Time_Limit| INT| In minutes. Options are 120 (2-hour parking), 240 (4-hour parking), 30, or 600 (10-hour parking|\n",
    "|SubArea| STRING| Sub area of Parking Area|"
   ]
  },
  {
   "cell_type": "markdown",
   "metadata": {},
   "source": [
    "### Data Storage"
   ]
  },
  {
   "cell_type": "markdown",
   "metadata": {},
   "source": [
    "### Below are processed files\n",
    "\n",
    "<ol>\n",
    "<li>Paid Parking Occupancy 2020-18GB</li>\n",
    "<li>Blockface-8MB</li>\n",
    "</ol>\n",
    "\n",
    "### There are three ways to store the processed data\n",
    "\n",
    "<ol>\n",
    "<li>CSV</li>\n",
    "<li>Apache Parquet</li>\n",
    "<li>Apache Avro</li>\n",
    "</ol>\n",
    "\n",
    "### The Paid Parking occupancy data generated for 2020 is lesser than the previous year i.e. 18 GB (137M rows) is likely due to travel restrictions from the ongoing pandemic. The previous year 2019 data was on the higher side i.e. 45GB(286M)"
   ]
  },
  {
   "cell_type": "markdown",
   "metadata": {},
   "source": [
    "### CSV\n",
    "\n",
    "> CSV works well for a small data set of 70,000 lines. However, what if you need to increase to 2 million records? What if each record has nested properties? While CSV files are simple and human-readable, they unfortunately do not scale well. As the file size grows, load times become impractical, and reads cannot be optimized. Their primitive nature allows them to be a great option for smaller data sets, but very inconvenient for managing larger sets of data. This is where both Parquet and Avro come in."
   ]
  },
  {
   "cell_type": "markdown",
   "metadata": {},
   "source": [
    "### Apache Parquet\n",
    "\n",
    ">\"Apache Parquet is a free and open-source column-oriented data storage format of the Apache Hadoop ecosystem. It is similar to the other columnar-storage file formats available in Hadoop namely RCFile and ORC. It provides efficient data compression and encoding schemes with enhanced performance to handle complex data in bulk.\"\n",
    "\n",
    "<ul>\n",
    "<li>Since it’s a column based format, it’s better to use when you only need to access specific fields</li>\n",
    "<li>Each data file contains the values for a set of rows</li>\n",
    "<li>Can’t be written from streaming data since it needs to wait for blocks to get finished. However, this will work using micro-batch (eg Apache Spark).\n",
    "</li>\n",
    "<li>Suitable for data exploration — read intensive, complex or analytical querying, low latency data</li>\n",
    "</ul>"
   ]
  },
  {
   "cell_type": "markdown",
   "metadata": {},
   "source": [
    "### Apache Avro\n",
    "\n",
    "> Apache Avro is a remote procedure call and data serialization framework developed within Apache’s Hadoop project. It uses JSON for defining data types and protocols, and serializes data in a compact binary format.\n",
    "\n",
    "<ul>\n",
    "<li>Since it’s a row based format, it’s better to use when all fields needs to be accessed</li>\n",
    "<li>Files support block compression and are splittable</li>\n",
    "<li>Can be written from streaming data (eg Apache Flink)</li>\n",
    "<li>Suitable for write intensive operation</li>\n",
    "</ul>"
   ]
  },
  {
   "cell_type": "markdown",
   "metadata": {},
   "source": [
    "### Data Storage Format Conclusion\n",
    "\n",
    "### For Seattle Parking Occupancy project Apache Parquet is better suited for data storage as we deal with immutable data and analytical queries, for which columnar storage is optimal."
   ]
  },
  {
   "cell_type": "markdown",
   "metadata": {},
   "source": [
    "### Paid Parking Transaction Data"
   ]
  },
  {
   "cell_type": "markdown",
   "metadata": {},
   "source": [
    "### TBD: Real Time processing"
   ]
  },
  {
   "cell_type": "code",
   "execution_count": 34,
   "metadata": {},
   "outputs": [],
   "source": [
    "paid_parking=pd.read_csv(\"C:\\Step 3 - DataCollection\\Paid_Parking_Transaction_Data.csv\")"
   ]
  },
  {
   "cell_type": "code",
   "execution_count": 35,
   "metadata": {
    "scrolled": false
   },
   "outputs": [
    {
     "data": {
      "text/html": [
       "<div>\n",
       "<style scoped>\n",
       "    .dataframe tbody tr th:only-of-type {\n",
       "        vertical-align: middle;\n",
       "    }\n",
       "\n",
       "    .dataframe tbody tr th {\n",
       "        vertical-align: top;\n",
       "    }\n",
       "\n",
       "    .dataframe thead th {\n",
       "        text-align: right;\n",
       "    }\n",
       "</style>\n",
       "<table border=\"1\" class=\"dataframe\">\n",
       "  <thead>\n",
       "    <tr style=\"text-align: right;\">\n",
       "      <th></th>\n",
       "      <th>Transaction ID</th>\n",
       "      <th>Meter Code</th>\n",
       "      <th>Transaction DateTime</th>\n",
       "      <th>Payment Mean</th>\n",
       "      <th>Amount Paid</th>\n",
       "      <th>Duration In Minutes</th>\n",
       "      <th>Blockface Name</th>\n",
       "      <th>Side Of Street</th>\n",
       "      <th>Element key</th>\n",
       "      <th>Parking Space Number</th>\n",
       "      <th>Latitude</th>\n",
       "      <th>Longitude</th>\n",
       "    </tr>\n",
       "  </thead>\n",
       "  <tbody>\n",
       "    <tr>\n",
       "      <th>0</th>\n",
       "      <td>910452505</td>\n",
       "      <td>4501002</td>\n",
       "      <td>11/25/2020 04:52:00 AM</td>\n",
       "      <td>CREDIT CARD</td>\n",
       "      <td>1.0</td>\n",
       "      <td>120</td>\n",
       "      <td>MADISON ST BETWEEN 3RD AVE AND 4TH AVE</td>\n",
       "      <td>SE</td>\n",
       "      <td>34214</td>\n",
       "      <td>NaN</td>\n",
       "      <td>47.605808</td>\n",
       "      <td>-122.333418</td>\n",
       "    </tr>\n",
       "    <tr>\n",
       "      <th>1</th>\n",
       "      <td>910452607</td>\n",
       "      <td>10255004</td>\n",
       "      <td>11/25/2020 04:53:00 AM</td>\n",
       "      <td>CREDIT CARD</td>\n",
       "      <td>2.0</td>\n",
       "      <td>240</td>\n",
       "      <td>4TH AVE BETWEEN VINE ST AND CEDAR ST</td>\n",
       "      <td>NE</td>\n",
       "      <td>6198</td>\n",
       "      <td>NaN</td>\n",
       "      <td>47.617572</td>\n",
       "      <td>-122.347464</td>\n",
       "    </tr>\n",
       "    <tr>\n",
       "      <th>2</th>\n",
       "      <td>910452836</td>\n",
       "      <td>5510002</td>\n",
       "      <td>11/25/2020 04:55:00 AM</td>\n",
       "      <td>CREDIT CARD</td>\n",
       "      <td>1.0</td>\n",
       "      <td>120</td>\n",
       "      <td>1ST AVE BETWEEN SENECA ST AND UNIVERSITY ST</td>\n",
       "      <td>SW</td>\n",
       "      <td>1013</td>\n",
       "      <td>NaN</td>\n",
       "      <td>47.606424</td>\n",
       "      <td>-122.337982</td>\n",
       "    </tr>\n",
       "    <tr>\n",
       "      <th>3</th>\n",
       "      <td>910452996</td>\n",
       "      <td>2020002</td>\n",
       "      <td>11/25/2020 04:56:00 AM</td>\n",
       "      <td>CREDIT CARD</td>\n",
       "      <td>1.0</td>\n",
       "      <td>120</td>\n",
       "      <td>WESTERN AVE BETWEEN SPRING ST AND SENECA ST</td>\n",
       "      <td>SW</td>\n",
       "      <td>58801</td>\n",
       "      <td>NaN</td>\n",
       "      <td>47.605281</td>\n",
       "      <td>-122.338434</td>\n",
       "    </tr>\n",
       "    <tr>\n",
       "      <th>4</th>\n",
       "      <td>910452997</td>\n",
       "      <td>4081002</td>\n",
       "      <td>11/25/2020 04:56:00 AM</td>\n",
       "      <td>CASH</td>\n",
       "      <td>1.0</td>\n",
       "      <td>120</td>\n",
       "      <td>COLUMBIA ST BETWEEN 4TH AVE AND 5TH AVE</td>\n",
       "      <td>SE</td>\n",
       "      <td>9770</td>\n",
       "      <td>NaN</td>\n",
       "      <td>47.604845</td>\n",
       "      <td>-122.331004</td>\n",
       "    </tr>\n",
       "  </tbody>\n",
       "</table>\n",
       "</div>"
      ],
      "text/plain": [
       "   Transaction ID  Meter Code    Transaction DateTime Payment Mean  \\\n",
       "0       910452505     4501002  11/25/2020 04:52:00 AM  CREDIT CARD   \n",
       "1       910452607    10255004  11/25/2020 04:53:00 AM  CREDIT CARD   \n",
       "2       910452836     5510002  11/25/2020 04:55:00 AM  CREDIT CARD   \n",
       "3       910452996     2020002  11/25/2020 04:56:00 AM  CREDIT CARD   \n",
       "4       910452997     4081002  11/25/2020 04:56:00 AM         CASH   \n",
       "\n",
       "   Amount Paid  Duration In Minutes  \\\n",
       "0          1.0                  120   \n",
       "1          2.0                  240   \n",
       "2          1.0                  120   \n",
       "3          1.0                  120   \n",
       "4          1.0                  120   \n",
       "\n",
       "                                Blockface Name Side Of Street  Element key  \\\n",
       "0       MADISON ST BETWEEN 3RD AVE AND 4TH AVE             SE        34214   \n",
       "1         4TH AVE BETWEEN VINE ST AND CEDAR ST             NE         6198   \n",
       "2  1ST AVE BETWEEN SENECA ST AND UNIVERSITY ST             SW         1013   \n",
       "3  WESTERN AVE BETWEEN SPRING ST AND SENECA ST             SW        58801   \n",
       "4      COLUMBIA ST BETWEEN 4TH AVE AND 5TH AVE             SE         9770   \n",
       "\n",
       "   Parking Space Number   Latitude   Longitude  \n",
       "0                   NaN  47.605808 -122.333418  \n",
       "1                   NaN  47.617572 -122.347464  \n",
       "2                   NaN  47.606424 -122.337982  \n",
       "3                   NaN  47.605281 -122.338434  \n",
       "4                   NaN  47.604845 -122.331004  "
      ]
     },
     "execution_count": 35,
     "metadata": {},
     "output_type": "execute_result"
    }
   ],
   "source": [
    "paid_parking.head(5)"
   ]
  },
  {
   "cell_type": "code",
   "execution_count": 36,
   "metadata": {
    "scrolled": true
   },
   "outputs": [
    {
     "data": {
      "text/plain": [
       "Transaction ID            int64\n",
       "Meter Code                int64\n",
       "Transaction DateTime     object\n",
       "Payment Mean             object\n",
       "Amount Paid             float64\n",
       "Duration In Minutes       int64\n",
       "Blockface Name           object\n",
       "Side Of Street           object\n",
       "Element key               int64\n",
       "Parking Space Number    float64\n",
       "Latitude                float64\n",
       "Longitude               float64\n",
       "dtype: object"
      ]
     },
     "execution_count": 36,
     "metadata": {},
     "output_type": "execute_result"
    }
   ],
   "source": [
    "paid_parking.dtypes"
   ]
  },
  {
   "cell_type": "markdown",
   "metadata": {},
   "source": [
    "## Schema needs to be changed as follows"
   ]
  },
  {
   "cell_type": "markdown",
   "metadata": {},
   "source": [
    "                                    \n",
    "|Column|DataType| Description|\n",
    "|-----|-------|--------------|\n",
    "|Transaction ID|INT|The unique transaction identifier|\n",
    "|Meter Code|INT|Unique identifier of the pay station|\n",
    "|Transaction DateTime|YYYY-MM-DD HH:MM:SS|The date and time of the transaction as recorded|\n",
    "|Payment Mean|STRING|Type of payment (e.g. COINS, CREDIT CARD, PHONE)|\n",
    "|Amount Paid|FLOAT|The amount of the transactions in dollar|\n",
    "|Duration In Minutes|INT|The calculated transaction duration (minutes)|\n",
    "|Blockface Name |STRING|Street segment, name of street with the “from street” and “to street|\n",
    "|Side Of Street|STRING|Options are: E, S, N, W, NE, SW, SE, NW|\n",
    "|Station_ID|INT|Unique identifier for the city street segment where the pay station is located|\n",
    "|Parking Space Number |FLOAT|Parking Space Number|\n",
    "|Latitude|FLOAT|Latitude|\n",
    "|Longitude|FLOAT|Longitude|"
   ]
  },
  {
   "cell_type": "code",
   "execution_count": 37,
   "metadata": {},
   "outputs": [
    {
     "data": {
      "text/plain": [
       "Transaction ID          False\n",
       "Meter Code              False\n",
       "Transaction DateTime    False\n",
       "Payment Mean            False\n",
       "Amount Paid             False\n",
       "Duration In Minutes     False\n",
       "Blockface Name          False\n",
       "Side Of Street          False\n",
       "Element key             False\n",
       "Parking Space Number     True\n",
       "Latitude                False\n",
       "Longitude               False\n",
       "dtype: bool"
      ]
     },
     "execution_count": 37,
     "metadata": {},
     "output_type": "execute_result"
    }
   ],
   "source": [
    "paid_parking.isnull().any()"
   ]
  },
  {
   "cell_type": "code",
   "execution_count": 39,
   "metadata": {},
   "outputs": [],
   "source": [
    "paid_parking.rename(columns={'Transaction ID':'Transaction_ID','Meter Code':'Meter_Code','Transaction DateTime':'Transaction_Date_Time',\n",
    "                             'Payment Mean':'Payment_Mean','Amount Paid':'Amount_Paid','Duration In Minutes':'Duration_In_Minutes',\n",
    "                             'Blockface Name':'Blockface_Name','Side of Street':'Side_of_Street','Element key':'Station_ID',\n",
    "                              'Parking Space Number':'Parking_Space_Number'},inplace=True)"
   ]
  },
  {
   "cell_type": "code",
   "execution_count": 55,
   "metadata": {},
   "outputs": [
    {
     "data": {
      "text/plain": [
       "Transaction_ID             int64\n",
       "Meter_Code                 int64\n",
       "Transaction_Date_Time     object\n",
       "Payment_Mean              object\n",
       "Amount_Paid              float64\n",
       "Duration_In_Minutes        int64\n",
       "Blockface_Name            object\n",
       "Side Of Street            object\n",
       "Station_ID                 int64\n",
       "Parking_Space_Number     float64\n",
       "Latitude                 float64\n",
       "Longitude                float64\n",
       "dtype: object"
      ]
     },
     "execution_count": 55,
     "metadata": {},
     "output_type": "execute_result"
    }
   ],
   "source": [
    "paid_parking.dtypes"
   ]
  },
  {
   "cell_type": "code",
   "execution_count": 45,
   "metadata": {},
   "outputs": [],
   "source": [
    "amountlessthanZero = paid_parking[paid_parking['Amount_Paid']<0]"
   ]
  },
  {
   "cell_type": "code",
   "execution_count": 48,
   "metadata": {},
   "outputs": [
    {
     "data": {
      "text/html": [
       "<div>\n",
       "<style scoped>\n",
       "    .dataframe tbody tr th:only-of-type {\n",
       "        vertical-align: middle;\n",
       "    }\n",
       "\n",
       "    .dataframe tbody tr th {\n",
       "        vertical-align: top;\n",
       "    }\n",
       "\n",
       "    .dataframe thead th {\n",
       "        text-align: right;\n",
       "    }\n",
       "</style>\n",
       "<table border=\"1\" class=\"dataframe\">\n",
       "  <thead>\n",
       "    <tr style=\"text-align: right;\">\n",
       "      <th></th>\n",
       "      <th>Transaction_ID</th>\n",
       "      <th>Meter_Code</th>\n",
       "      <th>Transaction_Date_Time</th>\n",
       "      <th>Payment_Mean</th>\n",
       "      <th>Amount_Paid</th>\n",
       "      <th>Duration_In_Minutes</th>\n",
       "      <th>Blockface_Name</th>\n",
       "      <th>Side Of Street</th>\n",
       "      <th>Station_ID</th>\n",
       "      <th>Parking_Space_Number</th>\n",
       "      <th>Latitude</th>\n",
       "      <th>Longitude</th>\n",
       "    </tr>\n",
       "  </thead>\n",
       "  <tbody>\n",
       "    <tr>\n",
       "      <th>50066</th>\n",
       "      <td>911347349</td>\n",
       "      <td>5088002</td>\n",
       "      <td>11/27/2020 01:07:00 PM</td>\n",
       "      <td>CASH</td>\n",
       "      <td>-1.0</td>\n",
       "      <td>120</td>\n",
       "      <td>OLIVE WAY BETWEEN 3RD AVE AND 4TH AVE</td>\n",
       "      <td>SE</td>\n",
       "      <td>12046</td>\n",
       "      <td>NaN</td>\n",
       "      <td>47.611897</td>\n",
       "      <td>-122.339017</td>\n",
       "    </tr>\n",
       "  </tbody>\n",
       "</table>\n",
       "</div>"
      ],
      "text/plain": [
       "       Transaction_ID  Meter_Code   Transaction_Date_Time Payment_Mean  \\\n",
       "50066       911347349     5088002  11/27/2020 01:07:00 PM         CASH   \n",
       "\n",
       "       Amount_Paid  Duration_In_Minutes  \\\n",
       "50066         -1.0                  120   \n",
       "\n",
       "                              Blockface_Name Side Of Street  Station_ID  \\\n",
       "50066  OLIVE WAY BETWEEN 3RD AVE AND 4TH AVE             SE       12046   \n",
       "\n",
       "       Parking_Space_Number   Latitude   Longitude  \n",
       "50066                   NaN  47.611897 -122.339017  "
      ]
     },
     "execution_count": 48,
     "metadata": {},
     "output_type": "execute_result"
    }
   ],
   "source": [
    "amountlessthanZero.head(3)"
   ]
  },
  {
   "cell_type": "code",
   "execution_count": 49,
   "metadata": {},
   "outputs": [],
   "source": [
    "durationInMins = paid_parking[paid_parking['Duration_In_Minutes']<0]"
   ]
  },
  {
   "cell_type": "code",
   "execution_count": 51,
   "metadata": {
    "scrolled": true
   },
   "outputs": [
    {
     "data": {
      "text/plain": [
       "<bound method NDFrame.describe of        Transaction_ID  Meter_Code   Transaction_Date_Time Payment_Mean  \\\n",
       "5072        910499469    18013007  11/25/2020 08:53:00 AM  CREDIT CARD   \n",
       "18988       910858103    18008007  11/27/2020 06:21:00 AM  CREDIT CARD   \n",
       "19014       910859919    18008007  11/27/2020 06:55:00 AM  CREDIT CARD   \n",
       "19729       910867556    18005007  11/27/2020 08:16:00 AM  CREDIT CARD   \n",
       "50557       911437915     5003002  11/30/2020 04:51:00 AM  CREDIT CARD   \n",
       "50611       911440061    17160010  11/30/2020 05:31:00 AM  CREDIT CARD   \n",
       "50952       911447439    19266002  11/30/2020 06:53:00 AM         CASH   \n",
       "68816       911752646    13026002  12/01/2020 05:52:00 AM  CREDIT CARD   \n",
       "69167       911764326    19127010  12/01/2020 07:08:00 AM  CREDIT CARD   \n",
       "\n",
       "       Amount_Paid  Duration_In_Minutes  \\\n",
       "5072          7.00                   -7   \n",
       "18988         3.50                 -159   \n",
       "19014         3.50                 -125   \n",
       "19729         3.50                  -44   \n",
       "50557         0.75                  -98   \n",
       "50611         0.25                 -118   \n",
       "50952         0.25                  -54   \n",
       "68816         0.75                  -38   \n",
       "69167         0.25                  -22   \n",
       "\n",
       "                                          Blockface_Name Side Of Street  \\\n",
       "5072   WESTLAKE EAST RDWY AVE N BETWEEN NEWTON ST AND...              W   \n",
       "18988  WESTLAKE EAST RDWY AVE N BETWEEN GALER ST AND ...              W   \n",
       "19014  WESTLAKE EAST RDWY AVE N BETWEEN GALER ST AND ...              W   \n",
       "19729  WESTLAKE EAST RDWY AVE N BETWEEN COMSTOCK ST A...              E   \n",
       "50557          UNIVERSITY ST BETWEEN 1ST AVE AND 2ND AVE             NW   \n",
       "50611       THOMAS ST BETWEEN TAYLOR AVE N AND 6TH AVE N              N   \n",
       "50952       THOMAS ST BETWEEN DEXTER AVE N AND 8TH AVE N              S   \n",
       "68816      S MAIN ST BETWEEN 6TH AVE S AND MAYNARD AVE S              N   \n",
       "69167     EASTLAKE AVE E BETWEEN WARD ST AND PROSPECT ST              W   \n",
       "\n",
       "       Station_ID  Parking_Space_Number   Latitude   Longitude  \n",
       "5072        13581                 673.0  47.636771 -122.340336  \n",
       "18988       13577                 525.0  47.633021 -122.340579  \n",
       "19014       13577                 526.0  47.633021 -122.340579  \n",
       "19729      120175                  85.0  47.631705 -122.340647  \n",
       "50557       58493                   NaN  47.607105 -122.337682  \n",
       "50611       13129                   NaN  47.620966 -122.345670  \n",
       "50952       81130                   NaN  47.620809 -122.341705  \n",
       "68816       88773                   NaN  47.600108 -122.325666  \n",
       "69167      120102                   NaN  47.628236 -122.329386  >"
      ]
     },
     "execution_count": 51,
     "metadata": {},
     "output_type": "execute_result"
    }
   ],
   "source": [
    "durationInMins.describe"
   ]
  },
  {
   "cell_type": "markdown",
   "metadata": {},
   "source": [
    "### Drop Rows with negative values in columns 'Amount_Paid' and 'Duration_In_Minutes'"
   ]
  }
 ],
 "metadata": {
  "kernelspec": {
   "display_name": "Python 3",
   "language": "python",
   "name": "python3"
  },
  "language_info": {
   "codemirror_mode": {
    "name": "ipython",
    "version": 3
   },
   "file_extension": ".py",
   "mimetype": "text/x-python",
   "name": "python",
   "nbconvert_exporter": "python",
   "pygments_lexer": "ipython3",
   "version": "3.8.3"
  }
 },
 "nbformat": 4,
 "nbformat_minor": 4
}
